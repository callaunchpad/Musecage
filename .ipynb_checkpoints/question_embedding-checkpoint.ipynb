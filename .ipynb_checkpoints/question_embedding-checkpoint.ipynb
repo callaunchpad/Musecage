{
 "cells": [
  {
   "cell_type": "code",
   "execution_count": 2,
   "metadata": {},
   "outputs": [
    {
     "name": "stdout",
     "output_type": "stream",
     "text": [
      "Indexing word vectors.\n",
      "Found 400000 word vectors.\n"
     ]
    }
   ],
   "source": [
    "from __future__ import print_function\n",
    "\n",
    "import os\n",
    "import sys\n",
    "import numpy as np\n",
    "import tensorflow as tf\n",
    "from tensorflow import keras\n",
    "\n",
    "\n",
    "BASE_DIR = 'data/'\n",
    "GLOVE_DIR = os.path.join(BASE_DIR, 'glove.6B')\n",
    "\n",
    "print('Indexing word vectors.')\n",
    "\n",
    "embeddings_index = {}\n",
    "with open(os.path.join(GLOVE_DIR, 'glove.6B.300d.txt'),encoding='utf-8') as f:\n",
    "    for line in f:\n",
    "        word, coefs = line.split(maxsplit=1)\n",
    "        coefs = np.fromstring(coefs, 'f', sep=' ')\n",
    "        embeddings_index[word] = coefs\n",
    "\n",
    "print('Found %s word vectors.' % len(embeddings_index))"
   ]
  },
  {
   "cell_type": "code",
   "execution_count": 3,
   "metadata": {},
   "outputs": [
    {
     "name": "stdout",
     "output_type": "stream",
     "text": [
      "Embedding vector size:  300\n"
     ]
    }
   ],
   "source": [
    "print('Embedding vector size: ',len(embeddings_index['the']))"
   ]
  },
  {
   "cell_type": "code",
   "execution_count": 64,
   "metadata": {},
   "outputs": [
    {
     "name": "stdout",
     "output_type": "stream",
     "text": [
      "Found 5 questions.\n"
     ]
    }
   ],
   "source": [
    "#Note that each question is lowercase and has been stripped of punctuation\n",
    "question_array = np.array([[\"what color is the carpet\"],[\"what is dangerous above the boys head\"],[\"what color is the dog\"],[\"what color is the clock\"],[\"what size is the cup\"]]) \n",
    "solution_array = np.array([\"red\",\"knife\",\"brown\",\"white\",\"blue\"])\n",
    "question_index = np.array([1,2,3,4,5])\n",
    "print('Found %s questions.' % len(question_array))\n",
    "\n",
    "def keep_question(question_array):\n",
    "    \"\"\"A function that takes in an array of different questions and returns an array of question embeddings. \n",
    "    If a word isn't found within Glove, that word is simply taken out of the question embedding. \n",
    "    \"\"\"\n",
    "    question_embeddings=[]\n",
    "    for i in range(len(question_array)): #For each question\n",
    "        question_embedding=np.zeros((300))\n",
    "        question = question_array[i][0]\n",
    "        for word in question.split(): #For each word in each question\n",
    "            try: #If the word embedding is found\n",
    "                word_embedding = embeddings_index[word]\n",
    "                question_embedding = [a+b for a,b in zip(question_embedding, word_embedding)] #Sum the word embeddings\n",
    "            except:\n",
    "                continue\n",
    "        question_embeddings.append(question_embedding)\n",
    "    return question_embeddings\n",
    "\n",
    "def discard_question(question_array):\n",
    "    \"\"\"A function that takes in an array of different questins and returns the embeddings of each question. \n",
    "    If a word isn't found within Glove, the entire question is discarded and an empty array is returned. \n",
    "    \"\"\"\n",
    "    question_embeddings=[]\n",
    "    for i in range(len(question_array)): #For each question\n",
    "        words_exist = True\n",
    "        question_embedding=np.zeros((300))\n",
    "        question = question_array[i][0]\n",
    "        for word in question.split(): #For each word in each question\n",
    "            try: #If the word embedding is found\n",
    "                word_embedding = embeddings_index[word]\n",
    "                question_embedding = [a+b for a,b in zip(question_embedding, word_embedding)] #Sum the word embeddings\n",
    "            except:\n",
    "                words_exist=False\n",
    "                break\n",
    "        if words_exist: \n",
    "            question_embeddings.append(question_embedding)\n",
    "    return question_embeddings"
   ]
  },
  {
   "cell_type": "code",
   "execution_count": 65,
   "metadata": {},
   "outputs": [
    {
     "data": {
      "text/plain": [
       "(5, 300)"
      ]
     },
     "execution_count": 65,
     "metadata": {},
     "output_type": "execute_result"
    }
   ],
   "source": [
    "question_embeddings=np.array(keep_question(question_array))\n",
    "question_embeddings.shape"
   ]
  },
  {
   "cell_type": "code",
   "execution_count": 66,
   "metadata": {},
   "outputs": [
    {
     "data": {
      "text/plain": [
       "KNeighborsClassifier(algorithm='auto', leaf_size=30, metric='minkowski',\n",
       "                     metric_params=None, n_jobs=None, n_neighbors=3, p=2,\n",
       "                     weights='uniform')"
      ]
     },
     "execution_count": 66,
     "metadata": {},
     "output_type": "execute_result"
    }
   ],
   "source": [
    "from sklearn.neighbors import KNeighborsClassifier\n",
    "knn_questions = KNeighborsClassifier(n_neighbors=3)\n",
    "knn_questions.fit(question_embeddings,question_index)"
   ]
  },
  {
   "cell_type": "code",
   "execution_count": 80,
   "metadata": {},
   "outputs": [
    {
     "data": {
      "text/plain": [
       "(array([[ 9.98910427, 10.99277865, 14.18404795]]),\n",
       " array([[4, 1, 2]], dtype=int64))"
      ]
     },
     "execution_count": 80,
     "metadata": {},
     "output_type": "execute_result"
    }
   ],
   "source": [
    "test_question = \"what is dangerous above the cup\"\n",
    "test_embedding = np.array(keep_question([[test_question]]))\n",
    "closest_questions = knn_questions.kneighbors(test_embedding)\n",
    "closest_questions #Here the closest questions are questions with index 4, 1, 2"
   ]
  },
  {
   "cell_type": "code",
   "execution_count": null,
   "metadata": {},
   "outputs": [],
   "source": []
  }
 ],
 "metadata": {
  "kernelspec": {
   "display_name": "Python 3",
   "language": "python",
   "name": "python3"
  },
  "language_info": {
   "codemirror_mode": {
    "name": "ipython",
    "version": 3
   },
   "file_extension": ".py",
   "mimetype": "text/x-python",
   "name": "python",
   "nbconvert_exporter": "python",
   "pygments_lexer": "ipython3",
   "version": "3.7.3"
  }
 },
 "nbformat": 4,
 "nbformat_minor": 2
}
