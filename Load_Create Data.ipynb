{
 "cells": [
  {
   "cell_type": "code",
   "execution_count": 5,
   "metadata": {},
   "outputs": [],
   "source": [
    "%matplotlib inline\n",
    "from VQA.PythonHelperTools.vqaTools.vqa import VQA\n",
    "import random\n",
    "import skimage.io as io\n",
    "import matplotlib.pyplot as plt\n",
    "import os"
   ]
  },
  {
   "cell_type": "code",
   "execution_count": 27,
   "metadata": {},
   "outputs": [],
   "source": [
    "data_dir = \"data\"\n",
    "ann_file = \"%s/Annotations/abstract_v002_train2015_annotations.json\"%(data_dir)\n",
    "ques_file = \"%s/Questions/OpenEnded_abstract_v002_train2015_questions.json\"%(data_dir)\n",
    "img_dir = \"%s/abstract_images/\"%(data_dir)"
   ]
  },
  {
   "cell_type": "code",
   "execution_count": 35,
   "metadata": {},
   "outputs": [
    {
     "name": "stdout",
     "output_type": "stream",
     "text": [
      "loading VQA annotations and questions into memory...\n",
      "0:00:00.854313\n",
      "creating index...\n",
      "index created!\n"
     ]
    }
   ],
   "source": [
    "vqa=VQA(ann_file, ques_file)"
   ]
  },
  {
   "cell_type": "code",
   "execution_count": 103,
   "metadata": {
    "scrolled": true
   },
   "outputs": [
    {
     "name": "stdout",
     "output_type": "stream",
     "text": [
      "[{'question_type': 'is this', 'multiple_choice_answer': 'yes', 'answers': [{'answer': 'yes', 'answer_confidence': 'yes', 'answer_id': 1}, {'answer': 'yes', 'answer_confidence': 'yes', 'answer_id': 2}, {'answer': 'yes', 'answer_confidence': 'yes', 'answer_id': 3}, {'answer': 'yes', 'answer_confidence': 'yes', 'answer_id': 4}, {'answer': 'yes', 'answer_confidence': 'yes', 'answer_id': 5}, {'answer': 'yes', 'answer_confidence': 'yes', 'answer_id': 6}, {'answer': 'yes', 'answer_confidence': 'yes', 'answer_id': 7}, {'answer': 'yes', 'answer_confidence': 'yes', 'answer_id': 8}, {'answer': 'yes', 'answer_confidence': 'yes', 'answer_id': 9}, {'answer': 'yes', 'answer_confidence': 'yes', 'answer_id': 10}], 'image_id': 5536, 'answer_type': 'yes/no', 'question_id': 55360}]\n"
     ]
    }
   ],
   "source": [
    "def get_by_ques(quesTypes):\n",
    "    ans_ids = vqa.getQuesIds(quesTypes=quesTypes)\n",
    "    answers = vqa.loadQA(ans_ids)\n",
    "    finals = []\n",
    "    for an in answers:\n",
    "        qa = vqa.qqa[ann[\"question_id\"]]\n",
    "        final = qa.copy()\n",
    "        final['answers'] = [a['answer'] for a in an['answers']]\n",
    "        finals.append(final)\n",
    "    return finals\n",
    "\n",
    "#print(get_by_ques_type([\"how many\"]))\n",
    "\n",
    "def get_by_ans_type(ansTypes):\n",
    "    ans_ids = vqa.getQuesIds(ansTypes=ansTypes)\n",
    "    answers = vqa.loadQA(ans_ids)\n",
    "    finals = []\n",
    "    for an in answers:\n",
    "        qa = vqa.qqa[ann[\"question_id\"]]\n",
    "        final = qa.copy()\n",
    "        final['answers'] = [a['answer'] for a in an['answers']]\n",
    "        finals.append(final)\n",
    "    return answers\n",
    "\n",
    "print(get_by_ans_type(\"yes/no\")[:1])"
   ]
  },
  {
   "cell_type": "code",
   "execution_count": null,
   "metadata": {},
   "outputs": [],
   "source": []
  },
  {
   "cell_type": "code",
   "execution_count": null,
   "metadata": {},
   "outputs": [],
   "source": []
  }
 ],
 "metadata": {
  "kernelspec": {
   "display_name": "tfenv",
   "language": "python",
   "name": "tfenv"
  },
  "language_info": {
   "codemirror_mode": {
    "name": "ipython",
    "version": 3
   },
   "file_extension": ".py",
   "mimetype": "text/x-python",
   "name": "python",
   "nbconvert_exporter": "python",
   "pygments_lexer": "ipython3",
   "version": "3.6.5"
  }
 },
 "nbformat": 4,
 "nbformat_minor": 2
}
